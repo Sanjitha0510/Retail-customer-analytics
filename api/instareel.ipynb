{
 "cells": [
  {
   "cell_type": "code",
   "execution_count": 11,
   "metadata": {},
   "outputs": [],
   "source": [
    "import http.server\n",
    "import datetime\n",
    "import socketserver\n",
    "import threading\n",
    "import subprocess\n",
    "import time\n",
    "import json\n",
    "import requests"
   ]
  },
  {
   "cell_type": "code",
   "execution_count": 12,
   "metadata": {},
   "outputs": [],
   "source": [
    "long_access_token = 'EAASGrSvhX68BOyIv0FPDLYTYEjM2gGyrWvAEOVfSR9mP6HHKQaiOVYxg9PWsZBdxhej5rV4TBQIh1ooj5DocKM7yObTAjOIjBAmrS4DZBRv6BDLGDqUCOkskQP33YTyy961su1FkSeAX4ONZCRHv13W05AI541ez8Qs2RQt8KE1ZC4m9wYkGKXr5'"
   ]
  },
  {
   "cell_type": "code",
   "execution_count": 13,
   "metadata": {},
   "outputs": [],
   "source": [
    "ig_user_id = \"17841471793837113\""
   ]
  },
  {
   "cell_type": "code",
   "execution_count": 14,
   "metadata": {},
   "outputs": [
    {
     "name": "stdout",
     "output_type": "stream",
     "text": [
      "Port 8000 is in use. Trying port 8001...\n"
     ]
    }
   ],
   "source": [
    "PORT = 8000\n",
    "\n",
    "# Keep incrementing the port until an available one is found\n",
    "while True:\n",
    "    try:\n",
    "        Handler = http.server.SimpleHTTPRequestHandler\n",
    "        httpd = socketserver.TCPServer((\"\", PORT), Handler)\n",
    "        break  # Exit loop if no error occurs\n",
    "    except OSError:\n",
    "        print(f\"Port {PORT} is in use. Trying port {PORT + 1}...\")\n",
    "        PORT += 1 "
   ]
  },
  {
   "cell_type": "code",
   "execution_count": 15,
   "metadata": {},
   "outputs": [],
   "source": [
    "ngrok = subprocess.Popen([r\"C:\\Users\\Mohnish\\Desktop\\retail customer analysis\\api\\output\\ngrok.exe\", \"http\", str(PORT)], stdout=subprocess.PIPE)\n",
    "\n",
    "time.sleep(2)"
   ]
  },
  {
   "cell_type": "code",
   "execution_count": 16,
   "metadata": {},
   "outputs": [
    {
     "name": "stdout",
     "output_type": "stream",
     "text": [
      "https://f56d-2401-4900-6341-4159-d9dd-25a8-d6f5-a886.ngrok-free.app/output/reel.mp4\n"
     ]
    }
   ],
   "source": [
    "resp = requests.get(\"http://localhost:4040/api/tunnels\")\n",
    "public_url = resp.json()[\"tunnels\"][0][\"public_url\"]\n",
    "\n",
    "image_url = public_url + \"/output/reel.mp4\"\n",
    "print(image_url)"
   ]
  },
  {
   "cell_type": "code",
   "execution_count": 17,
   "metadata": {},
   "outputs": [
    {
     "name": "stdout",
     "output_type": "stream",
     "text": [
      "\n",
      "Chinna Porur Yejamaan\n",
      "\n"
     ]
    }
   ],
   "source": [
    "caption = '''\n",
    "Chinna Porur Yejamaan\n",
    "'''\n",
    "print(caption)"
   ]
  },
  {
   "cell_type": "code",
   "execution_count": 18,
   "metadata": {},
   "outputs": [
    {
     "name": "stdout",
     "output_type": "stream",
     "text": [
      "{\n",
      "    \"id\": \"18073677880777315\"\n",
      "}\n",
      "creation_id : 18073677880777315\n"
     ]
    }
   ],
   "source": [
    "url = f\"https://graph.facebook.com/v17.0/{ig_user_id}/media\"\n",
    "\n",
    "payload = {\n",
    "    \"media_type\": \"REELS\",\n",
    "    \"video_url\" : image_url,\n",
    "    \"caption\" : caption,\n",
    "    \"share_to_feed\" : \"false\",\n",
    "    \"access_token\" : long_access_token\n",
    "}\n",
    "\n",
    "response = requests.post(url, params=payload)\n",
    "data = response.json()\n",
    "print(json.dumps(data, indent=4))\n",
    "creation_id = data[\"id\"]\n",
    "print(f\"creation_id : {creation_id}\")"
   ]
  },
  {
   "cell_type": "code",
   "execution_count": 19,
   "metadata": {},
   "outputs": [
    {
     "name": "stdout",
     "output_type": "stream",
     "text": [
      "Media ID: 18022492751646358\n"
     ]
    }
   ],
   "source": [
    "url = f\"https://graph.facebook.com/v17.0/{ig_user_id}/media_publish\"\n",
    "payload = {\n",
    "    \"creation_id\": creation_id,\n",
    "    \"access_token\": long_access_token\n",
    "}\n",
    "\n",
    "max_retries = 5  # Maximum number of attempts\n",
    "attempt = 0\n",
    "\n",
    "while attempt < max_retries:\n",
    "    try:\n",
    "        time.sleep(10)\n",
    "        response = requests.post(url, params=payload)\n",
    "        data = response.json()\n",
    "\n",
    "        if \"id\" in data:  # Success condition\n",
    "            media_id = data[\"id\"]\n",
    "            print(f\"Media ID: {media_id}\")\n",
    "            break  # Exit loop if successful\n",
    "\n",
    "        print(f\"Attempt {attempt + 1} failed: {json.dumps(data, indent=4)}\")\n",
    "\n",
    "    except requests.exceptions.RequestException as e:\n",
    "        print(f\"Attempt {attempt + 1} failed due to a request error: {e}\")\n",
    "\n",
    "    attempt += 1\n",
    "    time.sleep(2)  # Wait before retrying\n",
    "\n",
    "if attempt == max_retries:\n",
    "    print(\"Max retries reached. Could not publish media.\")"
   ]
  },
  {
   "cell_type": "code",
   "execution_count": 20,
   "metadata": {},
   "outputs": [
    {
     "name": "stdout",
     "output_type": "stream",
     "text": [
      "{\n",
      "    \"comments_count\": 0,\n",
      "    \"like_count\": 0,\n",
      "    \"media_url\": \"https://instagram.fmaa5-1.fna.fbcdn.net/o1/v/t16/f2/m86/AQNYXGVda1MvWvr_jSI-uOFzFs9at_y7Sel5VVeIdNutoA5ihezRH8ZuZY30BKNpElG8dmsEf0wgLmk6-o_Q4sF2VKvEsOcVv4DTj1I.mp4?efg=eyJ2ZW5jb2RlX3RhZyI6InZ0c192b2RfdXJsZ2VuLmNsaXBzLnVua25vd24tQzMuNzIwLmRhc2hfYmFzZWxpbmVfMV92MSJ9&_nc_ht=instagram.fmaa5-1.fna.fbcdn.net&_nc_cat=102&vs=1120717546035472_3736039603&_nc_vs=HBkcFQIYUmlnX3hwdl9yZWVsc19wZXJtYW5lbnRfc3JfcHJvZC83MTRBMzdDNTYwNUVCMkRBRkUzOUYwMDk5NUUzNUU4RF92aWRlb19kYXNoaW5pdC5tcDQVAALIAQAoABgAGwGIB3VzZV9vaWwBMRUAACaGyN7Y%2FOSSQBUCKAJDMywXQCgAAAAAAAAYEmRhc2hfYmFzZWxpbmVfMV92MREAdQAA&ccb=9-4&oh=00_AYBXMX73Bf2KwYsPZX0JXP6C-bXhM0CYTZFaiVqm2RUNeA&oe=67A289E3&_nc_sid=1d576d\",\n",
      "    \"permalink\": \"https://www.instagram.com/reel/DFm3c7Dp2W6/\",\n",
      "    \"id\": \"18022492751646358\"\n",
      "}\n",
      "permalink : https://www.instagram.com/reel/DFm3c7Dp2W6/\n"
     ]
    }
   ],
   "source": [
    "url = f\"https://graph.facebook.com/v21.0/{media_id}\"\n",
    "payload={\n",
    "    \"fields\":\"comments_count, like_count, media_url, permalink\",\n",
    "    \"access_token\":long_access_token\n",
    "}\n",
    "\n",
    "response = requests.get(url, params=payload)\n",
    "data = response.json()\n",
    "print(json.dumps(data, indent=4))\n",
    "permalink = data[\"permalink\"]\n",
    "print(f\"permalink : {permalink}\")"
   ]
  },
  {
   "cell_type": "code",
   "execution_count": null,
   "metadata": {},
   "outputs": [],
   "source": []
  }
 ],
 "metadata": {
  "kernelspec": {
   "display_name": "Python 3",
   "language": "python",
   "name": "python3"
  },
  "language_info": {
   "codemirror_mode": {
    "name": "ipython",
    "version": 3
   },
   "file_extension": ".py",
   "mimetype": "text/x-python",
   "name": "python",
   "nbconvert_exporter": "python",
   "pygments_lexer": "ipython3",
   "version": "3.12.5"
  }
 },
 "nbformat": 4,
 "nbformat_minor": 2
}
